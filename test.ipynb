{
 "cells": [
  {
   "cell_type": "code",
   "execution_count": 2,
   "metadata": {},
   "outputs": [
    {
     "name": "stdout",
     "output_type": "stream",
     "text": [
      "['q0', 'q1', 'q2', 'q3', 'q4', 'q5', 'q6', 'q7', 'q8', 'q9', 'q10', 'q11', 'q12', 'q13', 'q14', 'q15', 'q16']\n"
     ]
    }
   ],
   "source": [
    "questions = [f\"q{i}\" for i in range(17)]\n",
    "print(questions)"
   ]
  },
  {
   "cell_type": "code",
   "execution_count": 3,
   "metadata": {},
   "outputs": [
    {
     "name": "stdout",
     "output_type": "stream",
     "text": [
      "q0\n"
     ]
    }
   ],
   "source": [
    "for i in questions:\n",
    "    print(i)\n",
    "    for\n",
    "    break"
   ]
  },
  {
   "cell_type": "code",
   "execution_count": 7,
   "metadata": {},
   "outputs": [
    {
     "name": "stdout",
     "output_type": "stream",
     "text": [
      "q0\n"
     ]
    }
   ],
   "source": [
    "for i in range(len(questions)):\n",
    "    print(questions[i])\n",
    "    break"
   ]
  },
  {
   "cell_type": "code",
   "execution_count": 9,
   "metadata": {},
   "outputs": [
    {
     "name": "stdout",
     "output_type": "stream",
     "text": [
      "question number:1\n",
      "question:q0\n"
     ]
    }
   ],
   "source": [
    "for i_,i in enumerate(questions):\n",
    "    print(f\"question number:{i_+1}\\nquestion:{i}\")\n",
    "    break\n"
   ]
  },
  {
   "cell_type": "code",
   "execution_count": 2,
   "metadata": {},
   "outputs": [
    {
     "name": "stdout",
     "output_type": "stream",
     "text": [
      "['hfdth', 'uilkgukty', 'sefgdrhgyjuty7ji', 'rgthtryh']\n"
     ]
    }
   ],
   "source": [
    "string = input(\"Enter the string you want to code\")\n",
    "words = string.split()\n",
    "print(words)"
   ]
  },
  {
   "cell_type": "code",
   "execution_count": 1,
   "metadata": {},
   "outputs": [
    {
     "ename": "AttributeError",
     "evalue": "'str' object has no attribute 'pop'",
     "output_type": "error",
     "traceback": [
      "\u001b[1;31m---------------------------------------------------------------------------\u001b[0m",
      "\u001b[1;31mAttributeError\u001b[0m                            Traceback (most recent call last)",
      "Cell \u001b[1;32mIn[1], line 2\u001b[0m\n\u001b[0;32m      1\u001b[0m x \u001b[38;5;241m=\u001b[39m\u001b[38;5;124m\"\u001b[39m\u001b[38;5;124mfglnfnhm\u001b[39m\u001b[38;5;124m\"\u001b[39m\n\u001b[1;32m----> 2\u001b[0m \u001b[43mx\u001b[49m\u001b[38;5;241;43m.\u001b[39;49m\u001b[43mpop\u001b[49m(\u001b[38;5;241m0\u001b[39m)\n\u001b[0;32m      3\u001b[0m \u001b[38;5;28mprint\u001b[39m(x)\n",
      "\u001b[1;31mAttributeError\u001b[0m: 'str' object has no attribute 'pop'"
     ]
    }
   ],
   "source": [
    "x =\"fglnfnhm\"\n",
    "x.pop(0)\n",
    "print(x)"
   ]
  },
  {
   "cell_type": "code",
   "execution_count": 9,
   "metadata": {},
   "outputs": [
    {
     "name": "stdout",
     "output_type": "stream",
     "text": [
      "dVC\n"
     ]
    }
   ],
   "source": [
    "import random\n",
    "import string\n",
    "\n",
    "# Set of characters to choose from\n",
    "characters = string.ascii_letters \n",
    "\n",
    "# Generate random string of length 3\n",
    "random_string = ''.join(random.choice(characters) for _ in range(3))\n",
    "\n",
    "# Print the generated random string\n",
    "print(random_string)"
   ]
  },
  {
   "cell_type": "code",
   "execution_count": 12,
   "metadata": {},
   "outputs": [
    {
     "ename": "TypeError",
     "evalue": "can only concatenate list (not \"str\") to list",
     "output_type": "error",
     "traceback": [
      "\u001b[1;31m---------------------------------------------------------------------------\u001b[0m",
      "\u001b[1;31mTypeError\u001b[0m                                 Traceback (most recent call last)",
      "Cell \u001b[1;32mIn[12], line 9\u001b[0m\n\u001b[0;32m      7\u001b[0m     ran \u001b[38;5;241m=\u001b[39m string\u001b[38;5;241m.\u001b[39mascii_letters\n\u001b[0;32m      8\u001b[0m     random_letters \u001b[38;5;241m=\u001b[39m random\u001b[38;5;241m.\u001b[39mchoices(ran)\n\u001b[1;32m----> 9\u001b[0m     random_letters \u001b[38;5;241m=\u001b[39m \u001b[43mrandom_letters\u001b[49m\u001b[43m \u001b[49m\u001b[38;5;241;43m+\u001b[39;49m\u001b[43mran\u001b[49m\n\u001b[0;32m     10\u001b[0m word \u001b[38;5;241m=\u001b[39m random_letters\u001b[38;5;241m+\u001b[39mword\u001b[38;5;241m+\u001b[39mrandom_letters\n\u001b[0;32m     11\u001b[0m \u001b[38;5;28mprint\u001b[39m(word)\n",
      "\u001b[1;31mTypeError\u001b[0m: can only concatenate list (not \"str\") to list"
     ]
    }
   ],
   "source": [
    "word = \"harsh\"\n",
    "ran = string.ascii_letters\n",
    "first = word[0]\n",
    "word =  word[1:]\n",
    "word = word + first\n",
    "random_letters =\"\"\n",
    "for i in range(3):\n",
    "    random_letters = random.choices(ran)\n",
    "    random_letters = random_letters +ran\n",
    "word = random_letters+word+random_letters\n",
    "print(word)"
   ]
  },
  {
   "cell_type": "code",
   "execution_count": 15,
   "metadata": {},
   "outputs": [
    {
     "name": "stdout",
     "output_type": "stream",
     "text": [
      "<class 'list'>\n"
     ]
    }
   ],
   "source": [
    "import random\n",
    "import string\n",
    "\n",
    "ran = string.ascii_letters\n",
    "random_letters= random.choices(ran)\n",
    "print(type(random_letters))"
   ]
  },
  {
   "cell_type": "code",
   "execution_count": null,
   "metadata": {},
   "outputs": [],
   "source": []
  }
 ],
 "metadata": {
  "kernelspec": {
   "display_name": "Python 3",
   "language": "python",
   "name": "python3"
  },
  "language_info": {
   "codemirror_mode": {
    "name": "ipython",
    "version": 3
   },
   "file_extension": ".py",
   "mimetype": "text/x-python",
   "name": "python",
   "nbconvert_exporter": "python",
   "pygments_lexer": "ipython3",
   "version": "3.11.4"
  }
 },
 "nbformat": 4,
 "nbformat_minor": 2
}
